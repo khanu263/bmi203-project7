{
 "cells": [
  {
   "cell_type": "markdown",
   "id": "6d78ee81",
   "metadata": {},
   "source": [
    "# Training an autoencoder\n",
    "\n",
    "We first import everything we need."
   ]
  },
  {
   "cell_type": "code",
   "execution_count": 1,
   "id": "eea26a6f",
   "metadata": {},
   "outputs": [],
   "source": [
    "import numpy as np\n",
    "import matplotlib.pyplot as plt\n",
    "from sklearn.datasets import load_digits\n",
    "from sklearn.model_selection import train_test_split\n",
    "from sklearn.metrics import mean_squared_error\n",
    "from nn import nn"
   ]
  },
  {
   "cell_type": "markdown",
   "id": "62b012ad",
   "metadata": {},
   "source": [
    "We can then create and instantiate the neural network architecture."
   ]
  },
  {
   "cell_type": "code",
   "execution_count": 2,
   "id": "eda3d787",
   "metadata": {},
   "outputs": [],
   "source": [
    "layers = [{\"input_dim\": 64, \"output_dim\": 16, \"activation\": \"relu\"},\n",
    "          {\"input_dim\": 16, \"output_dim\": 64, \"activation\": \"relu\"}]\n",
    "net = nn.NeuralNetwork(layers, lr = 0.0001, seed = 42, batch_size = 100, epochs = 100, loss_function = \"mse\")"
   ]
  },
  {
   "cell_type": "markdown",
   "id": "71a1f2eb",
   "metadata": {},
   "source": [
    "To load and split the data into training and validation sets, we use functions from `sklearn`."
   ]
  },
  {
   "cell_type": "code",
   "execution_count": 3,
   "id": "568ac6b6",
   "metadata": {},
   "outputs": [
    {
     "name": "stdout",
     "output_type": "stream",
     "text": [
      "Training shape: (1437, 64)\n",
      "Validation shape: (360, 64)\n"
     ]
    }
   ],
   "source": [
    "digits = load_digits()\n",
    "X_train, X_val, y_train, y_val = train_test_split(digits[\"data\"], digits[\"target\"], test_size = 0.2, random_state = 0)\n",
    "print(f\"Training shape: {X_train.shape}\")\n",
    "print(f\"Validation shape: {X_val.shape}\")"
   ]
  },
  {
   "cell_type": "markdown",
   "id": "c676dbd1",
   "metadata": {},
   "source": [
    "We then train the network."
   ]
  },
  {
   "cell_type": "code",
   "execution_count": 4,
   "id": "8db83445",
   "metadata": {},
   "outputs": [
    {
     "name": "stdout",
     "output_type": "stream",
     "text": [
      "Finished epoch 1 of 100.\n",
      "Finished epoch 21 of 100.\n",
      "Finished epoch 41 of 100.\n",
      "Finished epoch 61 of 100.\n",
      "Finished epoch 81 of 100.\n"
     ]
    }
   ],
   "source": [
    "train_losses, val_losses = net.fit(X_train, X_train, X_val, X_val)"
   ]
  },
  {
   "cell_type": "markdown",
   "id": "597a05ee",
   "metadata": {},
   "source": [
    "We then plot both training and validation loss over time."
   ]
  },
  {
   "cell_type": "code",
   "execution_count": 5,
   "id": "9ccd11ff",
   "metadata": {},
   "outputs": [
    {
     "data": {
      "text/plain": [
       "Text(0.5, 1.0, 'Validation')"
      ]
     },
     "execution_count": 5,
     "metadata": {},
     "output_type": "execute_result"
    },
    {
     "data": {
      "image/png": "[encoded data removed]",
      "text/plain": [
       "<Figure size 864x288 with 2 Axes>"
      ]
     },
     "metadata": {
      "needs_background": "light"
     },
     "output_type": "display_data"
    }
   ],
   "source": [
    "fig, ax = plt.subplots(1, 2, figsize = (12, 4))\n",
    "ax[0].plot(range(100), train_losses)\n",
    "ax[0].set_title(\"Training\")\n",
    "ax[1].plot(range(100), val_losses)\n",
    "ax[1].set_title(\"Validation\")"
   ]
  },
  {
   "cell_type": "markdown",
   "id": "38ccc384",
   "metadata": {},
   "source": [
    "Finally, we compute the average reconstruction error over the dataset and visualize an example."
   ]
  },
  {
   "cell_type": "code",
   "execution_count": 6,
   "id": "10c06887",
   "metadata": {},
   "outputs": [
    {
     "name": "stdout",
     "output_type": "stream",
     "text": [
      "Average error over the validation set: 6.52803699587523\n"
     ]
    },
    {
     "data": {
      "text/plain": [
       "Text(0.5, 1.0, 'Reconstructed')"
      ]
     },
     "execution_count": 6,
     "metadata": {},
     "output_type": "execute_result"
    },
    {
     "data": {
      "image/png": "[encoded data removed]",
      "text/plain": [
       "<Figure size 864x288 with 2 Axes>"
      ]
     },
     "metadata": {
      "needs_background": "light"
     },
     "output_type": "display_data"
    }
   ],
   "source": [
    "pred = net.predict(X_val)\n",
    "print(f\"Average error over the validation set: {mean_squared_error(X_val, pred)}\")\n",
    "fig, ax = plt.subplots(1, 2, figsize = (12, 4))\n",
    "ax[0].matshow(X_val[42].reshape((8, 8)))\n",
    "ax[0].set_title(\"Actual\")\n",
    "ax[1].matshow(pred[42].reshape((8, 8)))\n",
    "ax[1].set_title(\"Reconstructed\")"
   ]
  },
  {
   "cell_type": "markdown",
   "id": "55851d47",
   "metadata": {},
   "source": [
    "I chose to use MSE as the loss function since the output is continuous and not meant to be binary. For the other parameters, I simply tried various options and went with what performed best: ReLU performed better than sigmoid, a learning rate of 0.0001 performed better than 0.001 and 0.01, and a batch size of 100 performed better than a batch size of 10. I used 100 epochs from the beginning -- I tried increasing it to 1000, but it didn't really get any better."
   ]
  }
 ],
 "metadata": {
  "kernelspec": {
   "display_name": "Python 3 (ipykernel)",
   "language": "python",
   "name": "python3"
  },
  "language_info": {
   "codemirror_mode": {
    "name": "ipython",
    "version": 3
   },
   "file_extension": ".py",
   "mimetype": "text/x-python",
   "name": "python",
   "nbconvert_exporter": "python",
   "pygments_lexer": "ipython3",
   "version": "3.9.7"
  }
 },
 "nbformat": 4,
 "nbformat_minor": 5
}
