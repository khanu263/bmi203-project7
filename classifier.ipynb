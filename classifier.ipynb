{
 "cells": [
  {
   "cell_type": "markdown",
   "id": "68a30ca0",
   "metadata": {},
   "source": [
    "# Training a classifier"
   ]
  },
  {
   "cell_type": "markdown",
   "id": "71211f6d",
   "metadata": {},
   "source": [
    "We first import everything we need."
   ]
  },
  {
   "cell_type": "code",
   "execution_count": 1,
   "id": "8a72cd69",
   "metadata": {},
   "outputs": [],
   "source": [
    "import numpy as np\n",
    "import matplotlib.pyplot as plt\n",
    "from sklearn.model_selection import train_test_split\n",
    "from nn import io, nn, preprocess"
   ]
  },
  {
   "cell_type": "markdown",
   "id": "84c7a01b",
   "metadata": {},
   "source": [
    "We then read in the data and take substrings of the negative examples so the lengths match."
   ]
  },
  {
   "cell_type": "code",
   "execution_count": 2,
   "id": "6b264174",
   "metadata": {},
   "outputs": [
    {
     "name": "stdout",
     "output_type": "stream",
     "text": [
      "Number of positive examples: 137\n",
      "Number of negative examples: 183297\n"
     ]
    }
   ],
   "source": [
    "# Read in raw data\n",
    "positives = io.read_text_file(\"data/rap1-lieb-positives.txt\")\n",
    "raw_negatives = io.read_fasta_file(\"data/yeast-upstream-1k-negative.fa\")\n",
    "\n",
    "# Shorten the negative examples\n",
    "target_len = len(positives[0])\n",
    "negatives = []\n",
    "for s in raw_negatives:\n",
    "    negatives += [s[target_len * i:target_len * (i + 1)] for i in range(len(s) // target_len)]\n",
    "    \n",
    "# Combine and create labels\n",
    "seqs = positives + negatives\n",
    "labels = [True] * len(positives) + [False] * len(negatives)\n",
    "\n",
    "# Print counts\n",
    "print(f\"Number of positive examples: {len(positives)}\")\n",
    "print(f\"Number of negative examples: {len(negatives)}\")"
   ]
  },
  {
   "cell_type": "markdown",
   "id": "1d764014",
   "metadata": {},
   "source": [
    "To solve the class imbalance, I implemented an oversampling scheme where positive examples are sampled with replacement until the classes are balanced. I could also have undersampled the negative examples, but in this case that would likely have made the dataset too small to be useful."
   ]
  },
  {
   "cell_type": "code",
   "execution_count": 3,
   "id": "d85b89ed",
   "metadata": {},
   "outputs": [],
   "source": [
    "seqs, labels = preprocess.sample_seqs(seqs, labels)"
   ]
  },
  {
   "cell_type": "markdown",
   "id": "b310b9a6",
   "metadata": {},
   "source": [
    "We can then one-hot encode the sequences and split them into training and validation sets."
   ]
  },
  {
   "cell_type": "code",
   "execution_count": 4,
   "id": "c0d5ee05",
   "metadata": {},
   "outputs": [
    {
     "name": "stdout",
     "output_type": "stream",
     "text": [
      "Training shape: (293275, 68)\n",
      "Validation shape: (73319, 68)\n"
     ]
    }
   ],
   "source": [
    "X = preprocess.one_hot_encode_seqs(seqs)\n",
    "X_train, X_val, y_train, y_val = train_test_split(X, np.array(labels), test_size = 0.2, random_state = 0)\n",
    "print(f\"Training shape: {X_train.shape}\")\n",
    "print(f\"Validation shape: {X_val.shape}\")"
   ]
  },
  {
   "cell_type": "markdown",
   "id": "48ea24f3",
   "metadata": {},
   "source": [
    "Finally, we create and train the neural network, plotting the loss over training and calculating the final accuracy on the validation dataset."
   ]
  },
  {
   "cell_type": "code",
   "execution_count": 5,
   "id": "b9ae8667",
   "metadata": {},
   "outputs": [
    {
     "name": "stdout",
     "output_type": "stream",
     "text": [
      "Finished epoch 1 of 20.\n",
      "Final accuracy on validation set: 0.9993862436749001\n"
     ]
    },
    {
     "data": {
      "image/png": "[encoded data removed]",
      "text/plain": [
       "<Figure size 864x288 with 2 Axes>"
      ]
     },
     "metadata": {
      "needs_background": "light"
     },
     "output_type": "display_data"
    }
   ],
   "source": [
    "# Create network\n",
    "layers = [{\"input_dim\": 68, \"output_dim\": 34, \"activation\": \"sigmoid\"},\n",
    "          {\"input_dim\": 34, \"output_dim\": 17, \"activation\": \"sigmoid\"},\n",
    "          {\"input_dim\": 17, \"output_dim\": 1, \"activation\": \"sigmoid\"},]\n",
    "net = nn.NeuralNetwork(layers, lr = 0.01, seed = 42, batch_size = 100, epochs = 20, loss_function = \"bce\")\n",
    "\n",
    "# Reshape 1D arrays to 2D so the dimensions work\n",
    "y_train = y_train.reshape(-1, 1)\n",
    "y_val = y_val.reshape(-1, 1)\n",
    "\n",
    "# Train\n",
    "train_losses, val_losses = net.fit(X_train, y_train, X_val, y_val)\n",
    "\n",
    "# Plot losses\n",
    "fig, ax = plt.subplots(1, 2, figsize = (12, 4))\n",
    "ax[0].plot(range(20), train_losses)\n",
    "ax[0].set_title(\"Training\")\n",
    "ax[1].plot(range(20), val_losses)\n",
    "ax[1].set_title(\"Validation\")\n",
    "\n",
    "# Compute accuracy\n",
    "pred = (net.predict(X_val) >= 0.5).astype(int)\n",
    "print(f\"Final accuracy on validation set: {np.sum(pred == y_val) / len(y_val)}\")"
   ]
  },
  {
   "cell_type": "markdown",
   "id": "3a793974",
   "metadata": {},
   "source": [
    "I chose the sigmoid activation function and binary cross-entropy loss since both are well-suited to binary classification tasks like this one. The architecture of the network was somewhat arbitrary -- reducing the number of nodes by a factor of two at each layer is something I've seen a lot in the feedforward section of convolutional neural network classifiers, so I just followed that pattern here and it seemed to work. I started with the hyperparameters from the autoencoder and noticed that the convergence was much slower, so I increased the learning rate and decreased the number of epochs until I thought it felt reasonable."
   ]
  }
 ],
 "metadata": {
  "kernelspec": {
   "display_name": "Python 3 (ipykernel)",
   "language": "python",
   "name": "python3"
  },
  "language_info": {
   "codemirror_mode": {
    "name": "ipython",
    "version": 3
   },
   "file_extension": ".py",
   "mimetype": "text/x-python",
   "name": "python",
   "nbconvert_exporter": "python",
   "pygments_lexer": "ipython3",
   "version": "3.9.7"
  }
 },
 "nbformat": 4,
 "nbformat_minor": 5
}
